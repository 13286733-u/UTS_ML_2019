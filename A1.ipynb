{
  "nbformat": 4,
  "nbformat_minor": 0,
  "metadata": {
    "kernelspec": {
      "display_name": "Python 3",
      "language": "python",
      "name": "python3"
    },
    "language_info": {
      "codemirror_mode": {
        "name": "ipython",
        "version": 3
      },
      "file_extension": ".py",
      "mimetype": "text/x-python",
      "name": "python",
      "nbconvert_exporter": "python",
      "pygments_lexer": "ipython3",
      "version": "3.5.4"
    },
    "toc": {
      "base_numbering": 1,
      "nav_menu": {},
      "number_sections": true,
      "sideBar": true,
      "skip_h1_title": false,
      "title_cell": "Table of Contents",
      "title_sidebar": "Contents",
      "toc_cell": false,
      "toc_position": {},
      "toc_section_display": true,
      "toc_window_display": false
    },
    "colab": {
      "name": "A1.ipynb",
      "version": "0.3.2",
      "provenance": [],
      "include_colab_link": true
    }
  },
  "cells": [
    {
      "cell_type": "markdown",
      "metadata": {
        "id": "view-in-github",
        "colab_type": "text"
      },
      "source": [
        "<a href=\"https://colab.research.google.com/github/13286733-u/UTS_ML_2019/blob/master/A1.ipynb\" target=\"_parent\"><img src=\"https://colab.research.google.com/assets/colab-badge.svg\" alt=\"Open In Colab\"/></a>"
      ]
    },
    {
      "cell_type": "markdown",
      "metadata": {
        "id": "WwlChJjtyBwE",
        "colab_type": "text"
      },
      "source": [
        "# Review Report on \"Eigenfaces vs. Fisherfaces: Recognition Using Class Specific Linear Projection\" by Peter N. Beulhumeur et al."
      ]
    },
    {
      "cell_type": "markdown",
      "metadata": {
        "id": "pvmOOt1oyBwE",
        "colab_type": "text"
      },
      "source": [
        "## Introduction"
      ]
    },
    {
      "cell_type": "markdown",
      "metadata": {
        "id": "WjePfiSQ04NT",
        "colab_type": "text"
      },
      "source": [
        "This review will discuss and critique the content, quality and presentation among other things of the 1997 report “Eigenfaces vs Fisherfaces: Recognition Using Class Specific Linear Projection” by Peter N. Belhumeur, Joao P. Hespanha, and David J. Kriegman. In this report, Belhumeur et al. discuss the existing approaches of facial recognition as well as their newly proposed algorithm for called “Fisherfaces” which attempts to solve the current challenge of variable lighting. Throughout their report, Belhumeur et al. use two different databases of images to test different methods and provides interesting results and error rates when using their proposed algorithm."
      ]
    },
    {
      "cell_type": "markdown",
      "metadata": {
        "id": "g-idSEAZyBwF",
        "colab_type": "text"
      },
      "source": [
        "## Content"
      ]
    },
    {
      "cell_type": "markdown",
      "metadata": {
        "id": "UPkimz89yBwG",
        "colab_type": "text"
      },
      "source": [
        "Belhumeuer et al. ’s 1997 report introduce a new approach to solve the issue of variations in lighting and expressions when using facial recognition techniques. Although there were many existing algorithms at the time including correlation, Eigenfaces and Linear Subspaces, “reliable techniques for recognition under more extreme variations have proven elusive.” (Belhumeuer et al. 1997). In their report Belhumeuer et al. proposes a new algorithm called “Fisherfaces” named after being a derivative of Fisher’s Linear Discriminant (FLD) which aims to find a linear projection from “the high-dimensional image space to a significantly lower-dimensional feature space which is insensitive both to variation in lighting direction and facial expression.” (Belhumeuer et al. 1997)\n",
        "\n",
        "The report also covers the advantages and disadvantages of three existing algorithms: correlation, Eigenfaces, and Linear Subspaces as well as the improvements with the Fisherfaces method. Using these algorithms as a benchmark, Belhumeur et al. discuss and compares their accuracy against Fisherface using two different tests one with variations in lighting and the other with a combination of variation in lighting, eyewear, and facial expressions.\n",
        "In the first test, Belhumeur et al. use a Harvard database of 330 images of 5 people (66 of each) separated into different subsets based on their lighting and angles. Using these subsets, Belhumeur et al. were able to produce faster and outstandingly low rates of error using the Fisherface algorithm compared to the other methods especially in cases where there was more variation in lighting or facial expressions.\n",
        "In the next test, Belhumeur et al. use a second database constructed from Yale, which comprised of sixteen subjects and ten pictures, each with varying facial features. In this test, error rates were calculated using the “leaving-one-out” strategy, which uses the entire set as training data, and one picture as test data as well as a comparison between using a cropped face and a full face. The results from this experiment showed the lowest error rate with Fisher of 7.3% at a close crop and 0.6% at full face."
      ]
    },
    {
      "cell_type": "markdown",
      "metadata": {
        "id": "C1qofUXOyBwG",
        "colab_type": "text"
      },
      "source": [
        "## Innovation"
      ]
    },
    {
      "cell_type": "markdown",
      "metadata": {
        "id": "kpY5ca2BAzCf",
        "colab_type": "text"
      },
      "source": [
        "![Fisherface Testing with Variation in Light](https://i.imgur.com/9XK4Qde.png)\n",
        "\n",
        "*Figure 1: Testing different methods on faces with variations in light*\n",
        "\n",
        "![Fisherface Testing with Variation in Light and Facial Expressions](https://i.imgur.com/Xe7gGfH.png)\n",
        "\n",
        "*Figure 2: Testing different methods on faces with variations in light and facial expressions*"
      ]
    },
    {
      "cell_type": "markdown",
      "metadata": {
        "id": "-j3egJoSyBwH",
        "colab_type": "text"
      },
      "source": [
        "In 1997, when Belhumeuer et al.’s report was published, face recognition technology was still a relatively new concept, and many were still researching better face detection technologies. One of the main challenges researchers face in facial recognition technology was the variation in lighting and facial expressions. These challenges heavily impacted existing techniques as they required proper visualisation of an individual’s face to calculate and compute similarities. Belhumeuer et al. also list a comparison of existing methods.\n",
        "\n",
        "The Fisherfaces method, which is proposed in this paper, aims to present a new and viable method, one insensitive to changes in light or facial expressions through the use of linear subspaces and discriminant analysis. This new method, 'uses the same technique in regards to Lambertian surface as Linear Subspaces' (George and B. 2017) but also combines it with the Linear Discriminant Analysis (LDA), 'which can be derived from an idea suggested by R.A. Fisher in 1936' (Martinez 2011). The method finds the “subspace representation” from a set of facial images and calculates “scatter matrixes” for comparison.\n",
        "Belhumeuer et al.’s report also compares and tests a few existing methods and techniques with the newly proposed Fisherface, as mentioned earlier. The results of these tests as seen in figures one and two lead Belhumeuer et al. to conclude that the Fisherface method is far better at recognising faces with variation in lighting and facial expressions."
      ]
    },
    {
      "cell_type": "markdown",
      "metadata": {
        "id": "A4_HV3NTyBwH",
        "colab_type": "text"
      },
      "source": [
        "## Technical quality"
      ]
    },
    {
      "cell_type": "markdown",
      "metadata": {
        "id": "pQawmhxDyBwI",
        "colab_type": "text"
      },
      "source": [
        "Belhumeuer et al.’s paper is quite technical and provides the reader with detailed context and background of the existing facial recognition technologies in 1997. The paper ensures the reader has an understanding of the benefits and disadvantages of each method, before introducing Fisherfaces. Furthermore, there is an in-depth explanation behind the logic through formulas of Fisherfaces and how it expands further upon existing methods, including the Linear Subspaces and Eigenfaces methods. Their technical quality is further evidenced in the two tests that are conducted to measure levels of improvement between Fisherfaces and existing technologies but lacks a bigger dataset which can have significant changes to the result. Additionally, the authors also adjust different variables during tests to ensure the best performances from each technique and observe changes in accuracy."
      ]
    },
    {
      "cell_type": "markdown",
      "metadata": {
        "id": "5hkkFKpWyBwJ",
        "colab_type": "text"
      },
      "source": [
        "## Application and X-factor"
      ]
    },
    {
      "cell_type": "markdown",
      "metadata": {
        "id": "j8pXojrgyBwJ",
        "colab_type": "text"
      },
      "source": [
        "The fisher faces method is appropriate for the face recognition domain. It’s an improvement upon the existing techniques in 1997 and has since assisted with research within the same field. The fisher faces method, can also be applied to other areas of image recognition, especially as a classifier. I believe that this topic could spark a great discussion in class due to its controversial nature and also the logic behind face recognition. The most interesting part of the work, in my opinion, was the significant improvement Fisherface had on Eigenface and Linear subspaces even though they are very similar."
      ]
    },
    {
      "cell_type": "markdown",
      "metadata": {
        "id": "d8e0s0DZyBwK",
        "colab_type": "text"
      },
      "source": [
        "## Presentation"
      ]
    },
    {
      "cell_type": "markdown",
      "metadata": {
        "id": "Nz_Zck5XyBwK",
        "colab_type": "text"
      },
      "source": [
        "Overall, the paper was very clear in its objective and was straightforward to follow. The authors provided a detailed background and explained their new proposed method well. There were sufficient examples and formulas to understand the logic behind the new method, and multiple tests were provided to showcase the improvements and changes. The paper could have been more better if there were tests on larger databases, to determine whether or not a change in volume would affect the accuracy of the methods."
      ]
    },
    {
      "cell_type": "markdown",
      "metadata": {
        "id": "hcSeY9W7DRVY",
        "colab_type": "text"
      },
      "source": [
        "## Links to this notebook"
      ]
    },
    {
      "cell_type": "markdown",
      "metadata": {
        "id": "8YNdqYSs81fJ",
        "colab_type": "text"
      },
      "source": [
        "https://colab.research.google.com/drive/18hK5UkC7ANj-rSWxerwi5PcnsdfE_-eM \n",
        " \n",
        "https://github.com/13286733-u/UTS_ML_2019/blob/master/A1.ipynb\n"
      ]
    },
    {
      "cell_type": "markdown",
      "metadata": {
        "id": "Hdh_TVg5yBwL",
        "colab_type": "text"
      },
      "source": [
        "## References\n",
        "\n",
        "\n",
        "George, J. and B., T. (2017). Face Recognition Techniques for Authentication in Smart Devices - Comparative Study. International Journal of Applied Information Systems, 12(1), pp.33-37.\n",
        "\n",
        "Martinez, A. (2011). Fisherfaces. [online] Scholarpedia. Available at: http://www.scholarpedia.org/article/Fisherfaces [Accessed 28 Aug. 2019]."
      ]
    }
  ]
}